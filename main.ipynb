{
 "cells": [
  {
   "cell_type": "code",
   "execution_count": 4,
   "id": "70ae2245",
   "metadata": {},
   "outputs": [
    {
     "name": "stdout",
     "output_type": "stream",
     "text": [
      "Requirement already satisfied: mediapipe in c:\\users\\s2\\appdata\\roaming\\python\\python38\\site-packages (0.8.5)\n",
      "Requirement already satisfied: absl-py in c:\\users\\s2\\appdata\\roaming\\python\\python38\\site-packages (from mediapipe) (0.13.0)\n",
      "Requirement already satisfied: protobuf>=3.11.4 in c:\\users\\s2\\anaconda3\\lib\\site-packages (from mediapipe) (3.17.3)\n",
      "Requirement already satisfied: six in c:\\users\\s2\\anaconda3\\lib\\site-packages (from mediapipe) (1.15.0)\n",
      "Requirement already satisfied: attrs>=19.1.0 in c:\\users\\s2\\anaconda3\\lib\\site-packages (from mediapipe) (20.3.0)\n",
      "Requirement already satisfied: numpy in c:\\users\\s2\\anaconda3\\lib\\site-packages (from mediapipe) (1.19.3)\n",
      "Requirement already satisfied: wheel in c:\\users\\s2\\anaconda3\\lib\\site-packages (from mediapipe) (0.36.2)\n",
      "Requirement already satisfied: opencv-contrib-python in c:\\users\\s2\\appdata\\roaming\\python\\python38\\site-packages (from mediapipe) (4.5.2.54)\n",
      "\n",
      "[notice] A new release of pip available: 22.1.2 -> 22.2.2\n",
      "[notice] To update, run: python.exe -m pip install --upgrade pip\n",
      "C:\\Users\\S2\\Documents\\D1\\ゼミ旅行\\mediapipe\\mediapipe\n"
     ]
    },
    {
     "name": "stderr",
     "output_type": "stream",
     "text": [
      "Cloning into 'mediapipe'...\n"
     ]
    }
   ],
   "source": [
    "# # MediaPipeをインストール\n",
    "# !pip install mediapipe\n",
    " \n",
    "# # Gitgub からコードをコピー\n",
    "# !git clone https://github.com/cedro3/mediapipe.git\n",
    "# %cd mediapipe/"
   ]
  },
  {
   "cell_type": "code",
   "execution_count": 9,
   "id": "f631ee9e",
   "metadata": {},
   "outputs": [
    {
     "name": "stdout",
     "output_type": "stream",
     "text": [
      "pygame 2.1.2 (SDL 2.0.18, Python 3.8.8)\n",
      "Hello from the pygame community. https://www.pygame.org/contribute.html\n"
     ]
    },
    {
     "name": "stderr",
     "output_type": "stream",
     "text": [
      "WARNING: Logging before InitGoogleLogging() is written to STDERR\n",
      "W20220912 16:33:37.089689 13760 tflite_model_loader.cc:32] Trying to resolve path manually as GetResourceContents failed: ; Can't find file: mediapipe/modules/pose_detection/pose_detection.tflite\n",
      "INFO: Created TensorFlow Lite XNNPACK delegate for CPU.\n",
      "W20220912 16:33:37.167789 19860 tflite_model_loader.cc:32] Trying to resolve path manually as GetResourceContents failed: ; Can't find file: mediapipe/modules/holistic_landmark/hand_recrop.tflite\n",
      "W20220912 16:33:37.167789 11416 tflite_model_loader.cc:32] Trying to resolve path manually as GetResourceContents failed: ; Can't find file: mediapipe/modules/holistic_landmark/hand_recrop.tflite\n",
      "W20220912 16:33:37.167789 21156 tflite_model_loader.cc:32] Trying to resolve path manually as GetResourceContents failed: ; Can't find file: mediapipe/modules/face_detection/face_detection_front.tflite\n",
      "W20220912 16:33:37.170254 19944 tflite_model_loader.cc:32] Trying to resolve path manually as GetResourceContents failed: ; Can't find file: mediapipe/modules/hand_landmark/hand_landmark.tflite\n",
      "W20220912 16:33:37.170254 19644 tflite_model_loader.cc:32] Trying to resolve path manually as GetResourceContents failed: ; Can't find file: mediapipe/modules/hand_landmark/hand_landmark.tflite\n",
      "W20220912 16:33:37.172174 17896 tflite_model_loader.cc:32] Trying to resolve path manually as GetResourceContents failed: ; Can't find file: mediapipe/modules/face_landmark/face_landmark.tflite\n",
      "[ WARN:0] global C:\\Users\\runneradmin\\AppData\\Local\\Temp\\pip-req-build-k1ohfcms\\opencv\\modules\\videoio\\src\\cap_msmf.cpp (438) `anonymous-namespace'::SourceReaderCB::~SourceReaderCB terminating async callback\n"
     ]
    }
   ],
   "source": [
    "!python  mediapipe/pinball_runner.py"
   ]
  },
  {
   "cell_type": "code",
   "execution_count": null,
   "id": "fc581949",
   "metadata": {},
   "outputs": [],
   "source": []
  }
 ],
 "metadata": {
  "kernelspec": {
   "display_name": "Python 3.8.8 ('base')",
   "language": "python",
   "name": "python3"
  },
  "language_info": {
   "codemirror_mode": {
    "name": "ipython",
    "version": 3
   },
   "file_extension": ".py",
   "mimetype": "text/x-python",
   "name": "python",
   "nbconvert_exporter": "python",
   "pygments_lexer": "ipython3",
   "version": "3.8.8"
  },
  "vscode": {
   "interpreter": {
    "hash": "89db2f7b9bc277e52e34e465b063bc3f10a08fa2d36904cc53bccb596ad7f476"
   }
  }
 },
 "nbformat": 4,
 "nbformat_minor": 5
}
